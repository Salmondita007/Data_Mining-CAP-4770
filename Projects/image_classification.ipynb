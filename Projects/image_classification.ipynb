{
  "nbformat": 4,
  "nbformat_minor": 0,
  "metadata": {
    "colab": {
      "provenance": []
    },
    "kernelspec": {
      "name": "python3",
      "display_name": "Python 3"
    },
    "language_info": {
      "name": "python"
    }
  },
  "cells": [
    {
      "cell_type": "markdown",
      "source": [
        "**Project 3 -Image Classifications**\n",
        "\n",
        "Samantha M. Lord "
      ],
      "metadata": {
        "id": "o2AS8Lrvmv1f"
      }
    },
    {
      "cell_type": "markdown",
      "source": [
        "Below I will be importing the cifar10"
      ],
      "metadata": {
        "id": "VcghENir3xFU"
      }
    },
    {
      "cell_type": "code",
      "source": [
        "from keras.datasets import cifar10\n",
        "\n",
        "(train_features, train_labels), (test_features, test_labels) = cifar10.load_data()"
      ],
      "metadata": {
        "colab": {
          "base_uri": "https://localhost:8080/"
        },
        "id": "yrqVZ0A_uNQT",
        "outputId": "6c50cd8a-5a0a-4bc9-c276-829148b3af29"
      },
      "execution_count": 1,
      "outputs": [
        {
          "output_type": "stream",
          "name": "stdout",
          "text": [
            "Downloading data from https://www.cs.toronto.edu/~kriz/cifar-10-python.tar.gz\n",
            "170498071/170498071 [==============================] - 2s 0us/step\n"
          ]
        }
      ]
    },
    {
      "cell_type": "markdown",
      "source": [
        "Training the data below"
      ],
      "metadata": {
        "id": "fjCJ_vCjxCx9"
      }
    },
    {
      "cell_type": "code",
      "source": [
        "print(\"Train features:\", train_features.shape)\n",
        "print(\"Train labels:\", train_labels.shape)\n",
        "print()\n",
        "print(\"Test features:\", test_features.shape)\n",
        "print(\"Test labels:\", test_labels.shape)"
      ],
      "metadata": {
        "colab": {
          "base_uri": "https://localhost:8080/"
        },
        "id": "NjwlKktVuOPz",
        "outputId": "605de536-fee4-402b-f7ef-7ea8b93fa445"
      },
      "execution_count": 2,
      "outputs": [
        {
          "output_type": "stream",
          "name": "stdout",
          "text": [
            "Train features: (50000, 32, 32, 3)\n",
            "Train labels: (50000, 1)\n",
            "\n",
            "Test features: (10000, 32, 32, 3)\n",
            "Test labels: (10000, 1)\n"
          ]
        }
      ]
    },
    {
      "cell_type": "code",
      "source": [
        "train_features = train_features.astype(\"float32\") / 255\n",
        "test_features = test_features.astype(\"float32\") / 255"
      ],
      "metadata": {
        "id": "i2ulr8g3uQQb"
      },
      "execution_count": 3,
      "outputs": []
    },
    {
      "cell_type": "code",
      "source": [
        "from keras.utils import to_categorical\n",
        "\n",
        "train_labels = to_categorical(train_labels)\n",
        "test_labels = to_categorical(test_labels)"
      ],
      "metadata": {
        "id": "JbrpOK-ruRVj"
      },
      "execution_count": 4,
      "outputs": []
    },
    {
      "cell_type": "markdown",
      "source": [
        "Modeling the data below"
      ],
      "metadata": {
        "id": "UI8UOjt6xTF8"
      }
    },
    {
      "cell_type": "code",
      "source": [
        "from keras import layers, models, optimizers\n",
        "\n",
        "model = models.Sequential()\n",
        "model.add(layers.Conv2D(32, (3, 3), activation=\"relu\", input_shape=(32, 32, 3)))\n",
        "model.add(layers.MaxPooling2D((2, 2)))\n",
        "model.add(layers.Conv2D(64, (3, 3), activation=\"relu\"))\n",
        "model.add(layers.MaxPooling2D((2, 2)))\n",
        "model.add(layers.Conv2D(128, (3, 3), activation=\"relu\"))\n",
        "model.add(layers.MaxPooling2D((2, 2)))\n",
        "model.add(layers.Flatten())\n",
        "model.add(layers.Dense(128, activation=\"relu\"))\n",
        "model.add(layers.Dense(10, activation=\"softmax\"))\n",
        "model.summary()\n",
        "\n",
        "\n",
        "model.compile(\n",
        "    optimizers.RMSprop(lr=1e-4), loss=\"categorical_crossentropy\", metrics=[\"accuracy\"]\n",
        ")"
      ],
      "metadata": {
        "colab": {
          "base_uri": "https://localhost:8080/"
        },
        "id": "TQE7mvmFuUzj",
        "outputId": "9947b095-26f8-4b43-a4ab-cda869059df4"
      },
      "execution_count": 5,
      "outputs": [
        {
          "output_type": "stream",
          "name": "stdout",
          "text": [
            "Model: \"sequential\"\n",
            "_________________________________________________________________\n",
            " Layer (type)                Output Shape              Param #   \n",
            "=================================================================\n",
            " conv2d (Conv2D)             (None, 30, 30, 32)        896       \n",
            "                                                                 \n",
            " max_pooling2d (MaxPooling2D  (None, 15, 15, 32)       0         \n",
            " )                                                               \n",
            "                                                                 \n",
            " conv2d_1 (Conv2D)           (None, 13, 13, 64)        18496     \n",
            "                                                                 \n",
            " max_pooling2d_1 (MaxPooling  (None, 6, 6, 64)         0         \n",
            " 2D)                                                             \n",
            "                                                                 \n",
            " conv2d_2 (Conv2D)           (None, 4, 4, 128)         73856     \n",
            "                                                                 \n",
            " max_pooling2d_2 (MaxPooling  (None, 2, 2, 128)        0         \n",
            " 2D)                                                             \n",
            "                                                                 \n",
            " flatten (Flatten)           (None, 512)               0         \n",
            "                                                                 \n",
            " dense (Dense)               (None, 128)               65664     \n",
            "                                                                 \n",
            " dense_1 (Dense)             (None, 10)                1290      \n",
            "                                                                 \n",
            "=================================================================\n",
            "Total params: 160,202\n",
            "Trainable params: 160,202\n",
            "Non-trainable params: 0\n",
            "_________________________________________________________________\n"
          ]
        },
        {
          "output_type": "stream",
          "name": "stderr",
          "text": [
            "/usr/local/lib/python3.10/dist-packages/keras/optimizers/legacy/rmsprop.py:143: UserWarning: The `lr` argument is deprecated, use `learning_rate` instead.\n",
            "  super().__init__(name, **kwargs)\n"
          ]
        }
      ]
    },
    {
      "cell_type": "markdown",
      "source": [
        "Fitting the data and using Epoch"
      ],
      "metadata": {
        "id": "UUcxs4NwxWIs"
      }
    },
    {
      "cell_type": "code",
      "source": [
        "history = model.fit(\n",
        "    train_features,\n",
        "    train_labels,\n",
        "    epochs=10,\n",
        "    batch_size=128,\n",
        "    validation_data=(test_features, test_labels),\n",
        ")"
      ],
      "metadata": {
        "colab": {
          "base_uri": "https://localhost:8080/"
        },
        "id": "JfFd4VIwudA7",
        "outputId": "97a21239-85f6-4760-d793-ae0123ecd757"
      },
      "execution_count": 6,
      "outputs": [
        {
          "output_type": "stream",
          "name": "stdout",
          "text": [
            "Epoch 1/10\n",
            "391/391 [==============================] - 51s 129ms/step - loss: 2.0309 - accuracy: 0.2791 - val_loss: 1.8079 - val_accuracy: 0.3570\n",
            "Epoch 2/10\n",
            "391/391 [==============================] - 46s 118ms/step - loss: 1.7387 - accuracy: 0.3752 - val_loss: 1.6748 - val_accuracy: 0.3878\n",
            "Epoch 3/10\n",
            "391/391 [==============================] - 47s 121ms/step - loss: 1.6200 - accuracy: 0.4160 - val_loss: 1.6069 - val_accuracy: 0.4190\n",
            "Epoch 4/10\n",
            "391/391 [==============================] - 47s 121ms/step - loss: 1.5355 - accuracy: 0.4478 - val_loss: 1.5165 - val_accuracy: 0.4486\n",
            "Epoch 5/10\n",
            "391/391 [==============================] - 47s 119ms/step - loss: 1.4769 - accuracy: 0.4694 - val_loss: 1.4925 - val_accuracy: 0.4660\n",
            "Epoch 6/10\n",
            "391/391 [==============================] - 46s 119ms/step - loss: 1.4311 - accuracy: 0.4864 - val_loss: 1.4241 - val_accuracy: 0.4834\n",
            "Epoch 7/10\n",
            "391/391 [==============================] - 46s 118ms/step - loss: 1.3909 - accuracy: 0.5047 - val_loss: 1.4083 - val_accuracy: 0.4950\n",
            "Epoch 8/10\n",
            "391/391 [==============================] - 47s 121ms/step - loss: 1.3576 - accuracy: 0.5178 - val_loss: 1.3640 - val_accuracy: 0.5083\n",
            "Epoch 9/10\n",
            "391/391 [==============================] - 51s 131ms/step - loss: 1.3299 - accuracy: 0.5271 - val_loss: 1.3283 - val_accuracy: 0.5295\n",
            "Epoch 10/10\n",
            "391/391 [==============================] - 48s 124ms/step - loss: 1.3046 - accuracy: 0.5381 - val_loss: 1.2967 - val_accuracy: 0.5400\n"
          ]
        }
      ]
    },
    {
      "cell_type": "markdown",
      "source": [
        "Printing a line chart correlating the training accuracy to the validation accuracy. Along with the training accuracy and validation for loss. "
      ],
      "metadata": {
        "id": "-s2laM0X6fBo"
      }
    },
    {
      "cell_type": "code",
      "source": [
        "import matplotlib.pyplot as plt\n",
        "\n",
        "acc = history.history[\"accuracy\"]\n",
        "val_acc = history.history[\"val_accuracy\"]\n",
        "loss = history.history[\"loss\"]\n",
        "val_loss = history.history[\"val_loss\"]\n",
        "\n",
        "epochs = range(len(acc))\n",
        "\n",
        "plt.plot(epochs, acc, \"bo\", label=\"Training accuracy\")\n",
        "plt.plot(epochs, val_acc, \"b\", label=\"Validation accuracy\")\n",
        "plt.title(\"Accuracy\")\n",
        "plt.legend()\n",
        "\n",
        "plt.figure()\n",
        "\n",
        "plt.plot(epochs, loss, \"bo\", label=\"Training loss\")\n",
        "plt.plot(epochs, val_loss, \"b\", label=\"Validation loss\")\n",
        "plt.title(\"Loss\")\n",
        "plt.legend()\n",
        "\n",
        "plt.show()"
      ],
      "metadata": {
        "colab": {
          "base_uri": "https://localhost:8080/",
          "height": 887
        },
        "id": "VxzCKSpAuduD",
        "outputId": "0f859a1b-2da9-4a35-86aa-3469e81db241"
      },
      "execution_count": 7,
      "outputs": [
        {
          "output_type": "display_data",
          "data": {
            "text/plain": [
              "<Figure size 640x480 with 1 Axes>"
            ],
            "image/png": "[encoded data removed]"
          },
          "metadata": {}
        },
        {
          "output_type": "display_data",
          "data": {
            "text/plain": [
              "<Figure size 640x480 with 1 Axes>"
            ],
            "image/png": "[encoded data removed]"
          },
          "metadata": {}
        }
      ]
    },
    {
      "cell_type": "markdown",
      "source": [
        "Here I will be evaluating the accuracy of the model. "
      ],
      "metadata": {
        "id": "bubyjYTW6YCJ"
      }
    },
    {
      "cell_type": "code",
      "source": [
        "scoreSeg = model.evaluate(test_features, test_labels)\n",
        "print(\"Accuracy: \", scoreSeg[1])"
      ],
      "metadata": {
        "colab": {
          "base_uri": "https://localhost:8080/"
        },
        "id": "bM-F67VvuffL",
        "outputId": "949792a9-1c90-4b85-98e6-54a07d3edf43"
      },
      "execution_count": 8,
      "outputs": [
        {
          "output_type": "stream",
          "name": "stdout",
          "text": [
            "313/313 [==============================] - 4s 11ms/step - loss: 1.2967 - accuracy: 0.5400\n",
            "Accuracy:  0.5400000214576721\n"
          ]
        }
      ]
    },
    {
      "cell_type": "markdown",
      "source": [
        "The accuracy for this is 54.00%"
      ],
      "metadata": {
        "id": "CNtWTYkn6Tmp"
      }
    }
  ]
}